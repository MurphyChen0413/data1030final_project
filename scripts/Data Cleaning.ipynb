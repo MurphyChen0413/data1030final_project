{
 "cells": [
  {
   "cell_type": "markdown",
   "id": "40c530c5",
   "metadata": {},
   "source": [
    "## Load Data"
   ]
  },
  {
   "cell_type": "code",
   "execution_count": 26,
   "id": "c93b3085",
   "metadata": {},
   "outputs": [],
   "source": [
    "# Packages\n",
    "import pandas as pd\n",
    "import numpy as np"
   ]
  },
  {
   "cell_type": "code",
   "execution_count": 28,
   "id": "1208ad6a",
   "metadata": {},
   "outputs": [
    {
     "name": "stdout",
     "output_type": "stream",
     "text": [
      "(536510, 25)\n",
      "['Maker', 'Genmodel', 'Genmodel_ID', 'Adv_ID', 'Adv_year', 'Adv_month', 'Color', 'Reg_year', 'Bodytype', 'Runned_Miles', 'Engin_size', 'Gearbox', 'Fuel_type', 'Price', 'Seat_num', 'Door_num', ' Genmodel_ID', 'Engine_power', 'Annual_Tax', 'Wheelbase', 'Height', 'Width', 'Length', 'Average_mpg', 'Top_speed']\n"
     ]
    }
   ],
   "source": [
    "# path to data file\n",
    "df_1 = pd.read_csv(\"/Users/murphy.chen/Desktop/data1030final_project/data/raw/Ad_table.csv\", low_memory=False)\n",
    "df_2 = pd.read_csv(\"/Users/murphy.chen/Desktop/data1030final_project/data/raw/Ad_table (extra).csv\", low_memory=False)\n",
    "\n",
    "df = pd.concat([df_1, df_2], ignore_index=True)\n",
    "\n",
    "# check the combined data\n",
    "print(df.shape)\n",
    "print(list(df.columns))"
   ]
  },
  {
   "cell_type": "markdown",
   "id": "eca3eeb4",
   "metadata": {},
   "source": [
    "## Data Cleaning"
   ]
  },
  {
   "cell_type": "code",
   "execution_count": 29,
   "id": "4caa9a65",
   "metadata": {},
   "outputs": [
    {
     "name": "stdout",
     "output_type": "stream",
     "text": [
      "(536510, 12)\n",
      "['Maker', 'Genmodel', 'Color', 'Reg_year', 'Bodytype', 'Runned_Miles', 'Engin_size', 'Gearbox', 'Fuel_type', 'Price', 'Seat_num', 'Door_num']\n"
     ]
    }
   ],
   "source": [
    "# start with keeping the necessary columns\n",
    "columns_to_keep = [\"Maker\", \n",
    "                   \"Genmodel\", \n",
    "                   \"Color\", \n",
    "                   \"Reg_year\", \n",
    "                   \"Bodytype\", \n",
    "                   \"Runned_Miles\", \n",
    "                   \"Engin_size\", \n",
    "                   \"Gearbox\", \n",
    "                   \"Fuel_type\", \n",
    "                   \"Price\", \n",
    "                   \"Seat_num\",  \n",
    "                   \"Door_num\"]\n",
    "\n",
    "df = df[columns_to_keep].copy()\n",
    "\n",
    "# check the new data columns\n",
    "print(df.shape)\n",
    "print(list(df.columns))"
   ]
  },
  {
   "cell_type": "code",
   "execution_count": 30,
   "id": "abb5ae78",
   "metadata": {},
   "outputs": [
    {
     "name": "stdout",
     "output_type": "stream",
     "text": [
      "['maker', 'genmodel', 'color', 'reg_year', 'bodytype', 'runned_miles', 'engin_size', 'gearbox', 'fuel_type', 'price', 'seat_num', 'door_num']\n",
      "['brand', 'model', 'color', 'reg_year', 'bodytype', 'mileage', 'engine_size', 'gearbox', 'fuel_type', 'price', 'seat_num', 'door_num']\n"
     ]
    }
   ],
   "source": [
    "# clean and standardize the names\n",
    "df.columns = (\n",
    "    df.columns\n",
    "    .str.strip()            \n",
    "    .str.lower()             \n",
    "    .str.replace(\" \", \"_\")     \n",
    "    .str.replace(\"-\", \"_\") \n",
    ")\n",
    "\n",
    "# check the cleaned column names\n",
    "print(df.columns.tolist())\n",
    "\n",
    "# rename some columns for better clarity\n",
    "df = df.rename(columns={\n",
    "    \"runned_miles\": \"mileage\",\n",
    "    \"engin_size\": \"engine_size\",\n",
    "    \"genmodel\": \"model\",\n",
    "    \"maker\": \"brand\"\n",
    "})\n",
    "\n",
    "# check the renamed column names\n",
    "print(df.columns.tolist())"
   ]
  },
  {
   "cell_type": "code",
   "execution_count": 31,
   "id": "ca21c0ec",
   "metadata": {},
   "outputs": [
    {
     "name": "stdout",
     "output_type": "stream",
     "text": [
      "brand           object\n",
      "model           object\n",
      "color           object\n",
      "reg_year       float64\n",
      "bodytype        object\n",
      "mileage         object\n",
      "engine_size     object\n",
      "gearbox         object\n",
      "fuel_type       object\n",
      "price           object\n",
      "seat_num       float64\n",
      "door_num       float64\n",
      "dtype: object\n"
     ]
    }
   ],
   "source": [
    "# check data types\n",
    "print(df.dtypes)"
   ]
  },
  {
   "cell_type": "code",
   "execution_count": 32,
   "id": "2b831046",
   "metadata": {},
   "outputs": [
    {
     "name": "stdout",
     "output_type": "stream",
     "text": [
      "     price  mileage  engine_size  reg_year  seat_num  door_num\n",
      "0  21500.0  60000.0          6.8    2000.0       5.0       4.0\n",
      "1  28750.0  44000.0          6.8    2002.0       5.0       4.0\n",
      "2  29999.0  55000.0          6.8    2002.0       5.0       4.0\n",
      "3  34948.0  14000.0          6.8    2003.0       5.0       4.0\n",
      "4  26555.0  61652.0          6.8    2003.0       5.0       4.0\n"
     ]
    }
   ],
   "source": [
    "# clean numeric columns\n",
    "def clean_numeric(series):\n",
    "    return (\n",
    "        series.astype(str)\n",
    "        .str.replace(\",\", \"\", regex=False)\n",
    "        .str.replace(\"km\", \"\", case=False, regex=False)\n",
    "        .str.replace(\"l\", \"\", case=False, regex=False)\n",
    "         .str.extract(r\"(-?\\d+\\.?\\d*)\")[0]\n",
    "        .astype(float)\n",
    "    )\n",
    "\n",
    "# apply the cleaning function to numeric columns\n",
    "df[\"price\"] = clean_numeric(df[\"price\"])\n",
    "df[\"mileage\"] = clean_numeric(df[\"mileage\"])\n",
    "df[\"engine_size\"] = clean_numeric(df[\"engine_size\"])\n",
    "\n",
    "for col in [\"reg_year\", \"seat_num\", \"door_num\"]:\n",
    "    df[col] = pd.to_numeric(df[col], errors=\"coerce\")\n",
    "\n",
    "print(df[[\"price\", \"mileage\", \"engine_size\", \"reg_year\", \"seat_num\", \"door_num\"]].head())\n"
   ]
  },
  {
   "cell_type": "code",
   "execution_count": 36,
   "id": "573a59cb",
   "metadata": {},
   "outputs": [
    {
     "name": "stdout",
     "output_type": "stream",
     "text": [
      "             missing_count  missing_fraction\n",
      "color                43750              8.15\n",
      "seat_num             12948              2.41\n",
      "door_num              9106              1.70\n",
      "engine_size           4128              0.77\n",
      "price                 2290              0.43\n",
      "mileage               2110              0.39\n",
      "bodytype              1908              0.36\n",
      "fuel_type              818              0.15\n",
      "gearbox                334              0.06\n",
      "reg_year                14              0.00\n"
     ]
    }
   ],
   "source": [
    "# Count missing values per column\n",
    "missing_count = df.isna().sum()\n",
    "missing_fraction = missing_count / len(df)\n",
    "\n",
    "missing_table = (\n",
    "    pd.DataFrame({\n",
    "        \"missing_count\": missing_count,\n",
    "        \"missing_fraction\":(missing_fraction*100).round(2)\n",
    "    })\n",
    "    .query(\"missing_count > 0\")\n",
    "    .sort_values(by=\"missing_fraction\", ascending=False)\n",
    ")\n",
    "\n",
    "print(missing_table)"
   ]
  },
  {
   "cell_type": "code",
   "execution_count": null,
   "id": "c53685af",
   "metadata": {},
   "outputs": [],
   "source": []
  }
 ],
 "metadata": {
  "kernelspec": {
   "display_name": "data1030",
   "language": "python",
   "name": "python3"
  },
  "language_info": {
   "codemirror_mode": {
    "name": "ipython",
    "version": 3
   },
   "file_extension": ".py",
   "mimetype": "text/x-python",
   "name": "python",
   "nbconvert_exporter": "python",
   "pygments_lexer": "ipython3",
   "version": "3.12.10"
  }
 },
 "nbformat": 4,
 "nbformat_minor": 5
}
