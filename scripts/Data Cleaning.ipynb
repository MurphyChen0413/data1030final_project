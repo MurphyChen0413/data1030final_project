{
 "cells": [
  {
   "cell_type": "markdown",
   "id": "40c530c5",
   "metadata": {},
   "source": [
    "## Load Data"
   ]
  },
  {
   "cell_type": "code",
   "execution_count": 2,
   "id": "1208ad6a",
   "metadata": {},
   "outputs": [
    {
     "name": "stdout",
     "output_type": "stream",
     "text": [
      "(536510, 26)\n",
      "['Maker', 'Genmodel', 'Genmodel_ID', 'Adv_ID', 'Adv_year', 'Adv_month', 'Color', 'Reg_year', 'Bodytype', 'Runned_Miles', 'Engin_size', 'Gearbox', 'Fuel_type', 'Price', 'Seat_num', 'Door_num', ' Genmodel', ' Genmodel_ID', 'Engine_power', 'Annual_Tax', 'Wheelbase', 'Height', 'Width', 'Length', 'Average_mpg', 'Top_speed']\n"
     ]
    }
   ],
   "source": [
    "import pandas as pd\n",
    "\n",
    "# path to data file\n",
    "df_1 = pd.read_csv(\"/Users/murphy.chen/Desktop/data1030final_project/data/raw/Ad_table.csv\", low_memory=False)\n",
    "df_2 = pd.read_csv(\"/Users/murphy.chen/Desktop/data1030final_project/data/raw/Ad_table (extra).csv\", low_memory=False)\n",
    "\n",
    "df = pd.concat([df_1, df_2], ignore_index=True)\n",
    "\n",
    "# check the combined data\n",
    "print(df.shape)\n",
    "print(list(df.columns))"
   ]
  },
  {
   "cell_type": "markdown",
   "id": "eca3eeb4",
   "metadata": {},
   "source": [
    "## Data Cleaning"
   ]
  },
  {
   "cell_type": "code",
   "execution_count": null,
   "id": "4caa9a65",
   "metadata": {},
   "outputs": [
    {
     "name": "stdout",
     "output_type": "stream",
     "text": [
      "(536510, 12)\n",
      "['Maker', 'Genmodel', 'Color', 'Reg_year', 'Bodytype', 'Runned_Miles', 'Engin_size', 'Gearbox', 'Fuel_type', 'Price', 'Seat_num', 'Door_num']\n"
     ]
    }
   ],
   "source": [
    "# start with keeping the necessary columns\n",
    "columns_to_keep = [\"Maker\", \n",
    "                   \"Genmodel\", \n",
    "                   \"Color\", \n",
    "                   \"Reg_year\", \n",
    "                   \"Bodytype\", \n",
    "                   \"Runned_Miles\", \n",
    "                   \"Engin_size\", \n",
    "                   \"Gearbox\", \n",
    "                   \"Fuel_type\", \n",
    "                   \"Price\", \n",
    "                   \"Seat_num\",  \n",
    "                   \"Door_num\"]\n",
    "\n",
    "df = df[columns_to_keep].copy()\n",
    "\n",
    "# check the new data columns\n",
    "print(df.shape)\n",
    "print(list(df.columns))"
   ]
  },
  {
   "cell_type": "code",
   "execution_count": 7,
   "id": "abb5ae78",
   "metadata": {},
   "outputs": [
    {
     "name": "stdout",
     "output_type": "stream",
     "text": [
      "['maker', 'genmodel', 'color', 'reg_year', 'bodytype', 'runned_miles', 'engin_size', 'gearbox', 'fuel_type', 'price', 'seat_num', 'door_num']\n"
     ]
    }
   ],
   "source": [
    "# clean and standardize the names\n",
    "df.columns = (\n",
    "    df.columns\n",
    "    .str.strip()            \n",
    "    .str.lower()             \n",
    "    .str.replace(\" \", \"_\")     \n",
    "    .str.replace(\"-\", \"_\") \n",
    ")\n",
    "\n",
    "# check the cleaned column names\n",
    "print(df.columns.tolist())"
   ]
  }
 ],
 "metadata": {
  "kernelspec": {
   "display_name": "data1030",
   "language": "python",
   "name": "python3"
  },
  "language_info": {
   "codemirror_mode": {
    "name": "ipython",
    "version": 3
   },
   "file_extension": ".py",
   "mimetype": "text/x-python",
   "name": "python",
   "nbconvert_exporter": "python",
   "pygments_lexer": "ipython3",
   "version": "3.12.10"
  }
 },
 "nbformat": 4,
 "nbformat_minor": 5
}
